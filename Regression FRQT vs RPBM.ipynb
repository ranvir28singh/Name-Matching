{
 "cells": [
  {
   "cell_type": "code",
   "execution_count": 1,
   "metadata": {},
   "outputs": [],
   "source": [
    "#for displaying matplotlib figures in line\n",
    "%matplotlib inline\n",
    "import matplotlib as mpl\n",
    "#interface to matplotlib\n",
    "import matplotlib.pyplot as plt\n",
    "import numpy as np\n",
    "import pandas as pd\n",
    "import matplotlib.patches as mpatches "
   ]
  },
  {
   "cell_type": "code",
   "execution_count": 6,
   "metadata": {},
   "outputs": [],
   "source": [
    "#xls = pd.ExcelFile('Matching Lanes.xlsx')\n",
    "vans_reg = pd.read_excel(\"C:/Users/mlxp/Documents/GitHub/Name-Matching/MLXP_VANS.xlsx\")\n",
    "jsd_reg = pd.read_excel(\"C:/Users/mlxp/Documents/GitHub/Name-Matching/MLXP_REGL.xlsx\")"
   ]
  },
  {
   "cell_type": "code",
   "execution_count": 17,
   "metadata": {},
   "outputs": [],
   "source": [
    "from sklearn.linear_model import LinearRegression"
   ]
  },
  {
   "cell_type": "code",
   "execution_count": 19,
   "metadata": {},
   "outputs": [],
   "source": [
    "x = vans_reg[['MTYV-', 'TMEV-', 'LDSV-', 'FRTQ-']]      # year on x-axis\n",
    "y = vans_reg[ 'RPBM-']"
   ]
  },
  {
   "cell_type": "code",
   "execution_count": 18,
   "metadata": {},
   "outputs": [],
   "source": [
    "lr=LinearRegression()"
   ]
  },
  {
   "cell_type": "code",
   "execution_count": 20,
   "metadata": {},
   "outputs": [
    {
     "data": {
      "text/plain": [
       "LinearRegression()"
      ]
     },
     "execution_count": 20,
     "metadata": {},
     "output_type": "execute_result"
    }
   ],
   "source": [
    "lr.fit(x,y)"
   ]
  },
  {
   "cell_type": "code",
   "execution_count": 21,
   "metadata": {},
   "outputs": [
    {
     "data": {
      "text/plain": [
       "array([ 0.00031666, -0.000882  ,  0.00073776,  0.00017242])"
      ]
     },
     "execution_count": 21,
     "metadata": {},
     "output_type": "execute_result"
    }
   ],
   "source": [
    "lr.coef_"
   ]
  },
  {
   "cell_type": "code",
   "execution_count": 23,
   "metadata": {},
   "outputs": [
    {
     "data": {
      "text/plain": [
       "1.6232246194143827"
      ]
     },
     "execution_count": 23,
     "metadata": {},
     "output_type": "execute_result"
    }
   ],
   "source": [
    "lr.intercept_"
   ]
  },
  {
   "cell_type": "code",
   "execution_count": 25,
   "metadata": {},
   "outputs": [],
   "source": [
    "import statsmodels.api as sm"
   ]
  },
  {
   "cell_type": "code",
   "execution_count": 26,
   "metadata": {},
   "outputs": [],
   "source": [
    "x=sm.add_constant(x)"
   ]
  },
  {
   "cell_type": "code",
   "execution_count": 29,
   "metadata": {},
   "outputs": [],
   "source": [
    "model=sm.OLS(y,x)"
   ]
  },
  {
   "cell_type": "code",
   "execution_count": 30,
   "metadata": {},
   "outputs": [
    {
     "data": {
      "text/plain": [
       "const    1.623225\n",
       "MTYV-    0.000317\n",
       "TMEV-   -0.000882\n",
       "LDSV-    0.000738\n",
       "FRTQ-    0.000172\n",
       "dtype: float64"
      ]
     },
     "execution_count": 30,
     "metadata": {},
     "output_type": "execute_result"
    }
   ],
   "source": [
    "result=model.fit()\n",
    "result.params"
   ]
  },
  {
   "cell_type": "code",
   "execution_count": 32,
   "metadata": {},
   "outputs": [
    {
     "data": {
      "text/html": [
       "<table class=\"simpletable\">\n",
       "<caption>OLS Regression Results</caption>\n",
       "<tr>\n",
       "  <th>Dep. Variable:</th>          <td>RPBM-</td>      <th>  R-squared:         </th> <td>   0.282</td> \n",
       "</tr>\n",
       "<tr>\n",
       "  <th>Model:</th>                   <td>OLS</td>       <th>  Adj. R-squared:    </th> <td>   0.281</td> \n",
       "</tr>\n",
       "<tr>\n",
       "  <th>Method:</th>             <td>Least Squares</td>  <th>  F-statistic:       </th> <td>   310.3</td> \n",
       "</tr>\n",
       "<tr>\n",
       "  <th>Date:</th>             <td>Fri, 07 Aug 2020</td> <th>  Prob (F-statistic):</th> <td>5.86e-170</td>\n",
       "</tr>\n",
       "<tr>\n",
       "  <th>Time:</th>                 <td>13:50:47</td>     <th>  Log-Likelihood:    </th> <td> -1301.4</td> \n",
       "</tr>\n",
       "<tr>\n",
       "  <th>No. Observations:</th>      <td>  2376</td>      <th>  AIC:               </th> <td>   2611.</td> \n",
       "</tr>\n",
       "<tr>\n",
       "  <th>Df Residuals:</th>          <td>  2372</td>      <th>  BIC:               </th> <td>   2634.</td> \n",
       "</tr>\n",
       "<tr>\n",
       "  <th>Df Model:</th>              <td>     3</td>      <th>                     </th>     <td> </td>    \n",
       "</tr>\n",
       "<tr>\n",
       "  <th>Covariance Type:</th>      <td>nonrobust</td>    <th>                     </th>     <td> </td>    \n",
       "</tr>\n",
       "</table>\n",
       "<table class=\"simpletable\">\n",
       "<tr>\n",
       "    <td></td>       <th>coef</th>     <th>std err</th>      <th>t</th>      <th>P>|t|</th>  <th>[0.025</th>    <th>0.975]</th>  \n",
       "</tr>\n",
       "<tr>\n",
       "  <th>const</th> <td>    1.6232</td> <td>    0.010</td> <td>  166.797</td> <td> 0.000</td> <td>    1.604</td> <td>    1.642</td>\n",
       "</tr>\n",
       "<tr>\n",
       "  <th>MTYV-</th> <td>    0.0003</td> <td>  6.8e-05</td> <td>    4.657</td> <td> 0.000</td> <td>    0.000</td> <td>    0.000</td>\n",
       "</tr>\n",
       "<tr>\n",
       "  <th>TMEV-</th> <td>   -0.0009</td> <td> 8.46e-05</td> <td>  -10.426</td> <td> 0.000</td> <td>   -0.001</td> <td>   -0.001</td>\n",
       "</tr>\n",
       "<tr>\n",
       "  <th>LDSV-</th> <td>    0.0007</td> <td> 4.38e-05</td> <td>   16.832</td> <td> 0.000</td> <td>    0.001</td> <td>    0.001</td>\n",
       "</tr>\n",
       "<tr>\n",
       "  <th>FRTQ-</th> <td>    0.0002</td> <td> 3.32e-05</td> <td>    5.196</td> <td> 0.000</td> <td>    0.000</td> <td>    0.000</td>\n",
       "</tr>\n",
       "</table>\n",
       "<table class=\"simpletable\">\n",
       "<tr>\n",
       "  <th>Omnibus:</th>       <td>492.773</td> <th>  Durbin-Watson:     </th> <td>   0.965</td>\n",
       "</tr>\n",
       "<tr>\n",
       "  <th>Prob(Omnibus):</th> <td> 0.000</td>  <th>  Jarque-Bera (JB):  </th> <td>2589.728</td>\n",
       "</tr>\n",
       "<tr>\n",
       "  <th>Skew:</th>          <td> 0.880</td>  <th>  Prob(JB):          </th> <td>    0.00</td>\n",
       "</tr>\n",
       "<tr>\n",
       "  <th>Kurtosis:</th>      <td> 7.802</td>  <th>  Cond. No.          </th> <td>8.15e+15</td>\n",
       "</tr>\n",
       "</table><br/><br/>Warnings:<br/>[1] Standard Errors assume that the covariance matrix of the errors is correctly specified.<br/>[2] The smallest eigenvalue is 6.58e-24. This might indicate that there are<br/>strong multicollinearity problems or that the design matrix is singular."
      ],
      "text/plain": [
       "<class 'statsmodels.iolib.summary.Summary'>\n",
       "\"\"\"\n",
       "                            OLS Regression Results                            \n",
       "==============================================================================\n",
       "Dep. Variable:                  RPBM-   R-squared:                       0.282\n",
       "Model:                            OLS   Adj. R-squared:                  0.281\n",
       "Method:                 Least Squares   F-statistic:                     310.3\n",
       "Date:                Fri, 07 Aug 2020   Prob (F-statistic):          5.86e-170\n",
       "Time:                        13:50:47   Log-Likelihood:                -1301.4\n",
       "No. Observations:                2376   AIC:                             2611.\n",
       "Df Residuals:                    2372   BIC:                             2634.\n",
       "Df Model:                           3                                         \n",
       "Covariance Type:            nonrobust                                         \n",
       "==============================================================================\n",
       "                 coef    std err          t      P>|t|      [0.025      0.975]\n",
       "------------------------------------------------------------------------------\n",
       "const          1.6232      0.010    166.797      0.000       1.604       1.642\n",
       "MTYV-          0.0003    6.8e-05      4.657      0.000       0.000       0.000\n",
       "TMEV-         -0.0009   8.46e-05    -10.426      0.000      -0.001      -0.001\n",
       "LDSV-          0.0007   4.38e-05     16.832      0.000       0.001       0.001\n",
       "FRTQ-          0.0002   3.32e-05      5.196      0.000       0.000       0.000\n",
       "==============================================================================\n",
       "Omnibus:                      492.773   Durbin-Watson:                   0.965\n",
       "Prob(Omnibus):                  0.000   Jarque-Bera (JB):             2589.728\n",
       "Skew:                           0.880   Prob(JB):                         0.00\n",
       "Kurtosis:                       7.802   Cond. No.                     8.15e+15\n",
       "==============================================================================\n",
       "\n",
       "Warnings:\n",
       "[1] Standard Errors assume that the covariance matrix of the errors is correctly specified.\n",
       "[2] The smallest eigenvalue is 6.58e-24. This might indicate that there are\n",
       "strong multicollinearity problems or that the design matrix is singular.\n",
       "\"\"\""
      ]
     },
     "execution_count": 32,
     "metadata": {},
     "output_type": "execute_result"
    }
   ],
   "source": [
    "result.summary()"
   ]
  },
  {
   "cell_type": "code",
   "execution_count": 33,
   "metadata": {},
   "outputs": [],
   "source": [
    "# Fitting a regression line\n",
    "# x = vans_reg[['MTYV-', 'TMEV-', 'LDSV-', 'FRTQ-']]      # year on x-axis\n",
    "# y = vans_reg[ 'RPBM-']     # total on y-axis\n",
    "# gives X and Y values\n",
    "# fit = np.polyfit(x, y, deg=1)\n",
    "#vans_reg.plot(kind='scatter', x=[['MTYV-', 'TMEV-', 'LDSV-', 'FRTQ-']], y='RPBM-', figsize=(10, 6), color='darkblue')\n",
    "\n",
    "# plt.title('FRQT vs RPBM')\n",
    "# plt.xlabel('FRQT')\n",
    "# plt.ylabel('RPBM')\n",
    "\n",
    "# plot line of best fit\n",
    "#plt.plot(x, fit[0] * x + fit[1], color='red') # recall that x is the Years\n",
    "#plt.annotate('y=0.00069x + 1.869', xy=(750, 5))\n",
    "\n",
    "# plt.show()"
   ]
  },
  {
   "cell_type": "code",
   "execution_count": 12,
   "metadata": {},
   "outputs": [
    {
     "data": {
      "text/plain": [
       "0.0006935001026420532"
      ]
     },
     "execution_count": 12,
     "metadata": {},
     "output_type": "execute_result"
    }
   ],
   "source": [
    "fit[0]"
   ]
  },
  {
   "cell_type": "code",
   "execution_count": 22,
   "metadata": {},
   "outputs": [
    {
     "data": {
      "text/plain": [
       "1.8698083023257335"
      ]
     },
     "execution_count": 22,
     "metadata": {},
     "output_type": "execute_result"
    }
   ],
   "source": [
    "fit[1]"
   ]
  },
  {
   "cell_type": "code",
   "execution_count": 43,
   "metadata": {},
   "outputs": [
    {
     "name": "stdout",
     "output_type": "stream",
     "text": [
      "                            OLS Regression Results                            \n",
      "==============================================================================\n",
      "Dep. Variable:                  RPBM-   R-squared:                       0.149\n",
      "Model:                            OLS   Adj. R-squared:                  0.145\n",
      "Method:                 Least Squares   F-statistic:                     34.52\n",
      "Date:                Thu, 06 Aug 2020   Prob (F-statistic):           1.77e-08\n",
      "Time:                        11:36:50   Log-Likelihood:                -101.12\n",
      "No. Observations:                 199   AIC:                             206.2\n",
      "Df Residuals:                     197   BIC:                             212.8\n",
      "Df Model:                           1                                         \n",
      "Covariance Type:            nonrobust                                         \n",
      "==============================================================================\n",
      "                 coef    std err          t      P>|t|      [0.025      0.975]\n",
      "------------------------------------------------------------------------------\n",
      "const          1.8698      0.029     65.100      0.000       1.813       1.926\n",
      "FRTQ-          0.0007      0.000      5.875      0.000       0.000       0.001\n",
      "==============================================================================\n",
      "Omnibus:                      128.804   Durbin-Watson:                   1.426\n",
      "Prob(Omnibus):                  0.000   Jarque-Bera (JB):             1608.491\n",
      "Skew:                           2.217   Prob(JB):                         0.00\n",
      "Kurtosis:                      16.203   Cond. No.                         244.\n",
      "==============================================================================\n",
      "\n",
      "Warnings:\n",
      "[1] Standard Errors assume that the covariance matrix of the errors is correctly specified.\n"
     ]
    }
   ],
   "source": [
    "import pandas as pd\n",
    "import numpy as np\n",
    "from sklearn import datasets, linear_model\n",
    "from sklearn.linear_model import LinearRegression\n",
    "import statsmodels.api as sm\n",
    "from scipy import stats\n",
    "\n",
    "#diabetes = datasets.load_diabetes()\n",
    "x = vans_reg['FRTQ-']      # year on x-axis\n",
    "y = vans_reg[ 'RPBM-']  \n",
    "\n",
    "X2 = sm.add_constant(x)\n",
    "est = sm.OLS(y, X2)\n",
    "est2 = est.fit()\n",
    "print(est2.summary())"
   ]
  },
  {
   "cell_type": "code",
   "execution_count": 34,
   "metadata": {},
   "outputs": [
    {
     "data": {
      "image/png": "[encoded data removed]",
      "text/plain": [
       "<Figure size 720x432 with 1 Axes>"
      ]
     },
     "metadata": {
      "needs_background": "light"
     },
     "output_type": "display_data"
    }
   ],
   "source": [
    "# Fitting a regression line\n",
    "x = jsd_reg['FRTQ-']      # year on x-axis\n",
    "y = jsd_reg[ 'RPBM-']     # total on y-axis\n",
    "# gives X and Y values\n",
    "fit = np.polyfit(x, y, deg=1)\n",
    "jsd_reg.plot(kind='scatter', x='FRTQ-', y='RPBM-', figsize=(10, 6), color='darkblue')\n",
    "\n",
    "plt.title('FRQT vs RPBM')\n",
    "plt.xlabel('FRQT')\n",
    "plt.ylabel('RPBM')\n",
    "\n",
    "# plot line of best fit\n",
    "plt.plot(x, fit[0] * x + fit[1], color='red') # recall that x is the Years\n",
    "plt.annotate('y=0.0.0042x + 13.379', xy=(400,100))\n",
    "\n",
    "plt.show()"
   ]
  },
  {
   "cell_type": "code",
   "execution_count": 29,
   "metadata": {},
   "outputs": [
    {
     "data": {
      "text/plain": [
       "0.004197609461717242"
      ]
     },
     "execution_count": 29,
     "metadata": {},
     "output_type": "execute_result"
    }
   ],
   "source": [
    "fit[0]"
   ]
  },
  {
   "cell_type": "code",
   "execution_count": 30,
   "metadata": {},
   "outputs": [
    {
     "data": {
      "text/plain": [
       "13.379176112641575"
      ]
     },
     "execution_count": 30,
     "metadata": {},
     "output_type": "execute_result"
    }
   ],
   "source": [
    "fit[1]"
   ]
  },
  {
   "cell_type": "code",
   "execution_count": 35,
   "metadata": {},
   "outputs": [
    {
     "data": {
      "text/plain": [
       "array([4.19760946e-03, 1.33791761e+01])"
      ]
     },
     "execution_count": 35,
     "metadata": {},
     "output_type": "execute_result"
    }
   ],
   "source": [
    "fit"
   ]
  },
  {
   "cell_type": "code",
   "execution_count": 37,
   "metadata": {},
   "outputs": [
    {
     "name": "stdout",
     "output_type": "stream",
     "text": [
      "                            OLS Regression Results                            \n",
      "==============================================================================\n",
      "Dep. Variable:                  RPBM-   R-squared:                       0.001\n",
      "Model:                            OLS   Adj. R-squared:                 -0.006\n",
      "Method:                 Least Squares   F-statistic:                    0.1347\n",
      "Date:                Thu, 06 Aug 2020   Prob (F-statistic):              0.714\n",
      "Time:                        11:32:57   Log-Likelihood:                -744.03\n",
      "No. Observations:                 159   AIC:                             1492.\n",
      "Df Residuals:                     157   BIC:                             1498.\n",
      "Df Model:                           1                                         \n",
      "Covariance Type:            nonrobust                                         \n",
      "==============================================================================\n",
      "                 coef    std err          t      P>|t|      [0.025      0.975]\n",
      "------------------------------------------------------------------------------\n",
      "const         13.3792      2.229      6.003      0.000       8.977      17.781\n",
      "FRTQ-          0.0042      0.011      0.367      0.714      -0.018       0.027\n",
      "==============================================================================\n",
      "Omnibus:                      144.694   Durbin-Watson:                   1.637\n",
      "Prob(Omnibus):                  0.000   Jarque-Bera (JB):             1590.523\n",
      "Skew:                           3.508   Prob(JB):                         0.00\n",
      "Kurtosis:                      16.815   Cond. No.                         209.\n",
      "==============================================================================\n",
      "\n",
      "Warnings:\n",
      "[1] Standard Errors assume that the covariance matrix of the errors is correctly specified.\n"
     ]
    }
   ],
   "source": [
    "import pandas as pd\n",
    "import numpy as np\n",
    "from sklearn import datasets, linear_model\n",
    "from sklearn.linear_model import LinearRegression\n",
    "import statsmodels.api as sm\n",
    "from scipy import stats\n",
    "\n",
    "#diabetes = datasets.load_diabetes()\n",
    "x = jsd_reg['FRTQ-']      # year on x-axis\n",
    "y = jsd_reg[ 'RPBM-'] \n",
    "\n",
    "X2 = sm.add_constant(x)\n",
    "est = sm.OLS(y, X2)\n",
    "est2 = est.fit()\n",
    "print(est2.summary())"
   ]
  }
 ],
 "metadata": {
  "kernelspec": {
   "display_name": "Python 3",
   "language": "python",
   "name": "python3"
  },
  "language_info": {
   "codemirror_mode": {
    "name": "ipython",
    "version": 3
   },
   "file_extension": ".py",
   "mimetype": "text/x-python",
   "name": "python",
   "nbconvert_exporter": "python",
   "pygments_lexer": "ipython3",
   "version": "3.8.3"
  }
 },
 "nbformat": 4,
 "nbformat_minor": 4
}
